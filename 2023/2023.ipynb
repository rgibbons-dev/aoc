{
 "cells": [
  {
   "cell_type": "code",
   "execution_count": 3,
   "id": "2d7dacae-c63c-48d2-88d3-7630d740f236",
   "metadata": {},
   "outputs": [],
   "source": [
    "# utility function to read files\n",
    "def parse(file, be_list):\n",
    "    with open(file) as f:\n",
    "        if(be_list):\n",
    "            return f.read().splitlines()\n",
    "        else:\n",
    "            return f.read()"
   ]
  },
  {
   "cell_type": "markdown",
   "id": "ea321737-2ae0-469d-bc7b-a0e7a30f6e17",
   "metadata": {},
   "source": [
    "# Day 1 Part 1\n",
    "I already solved this in Lua, but I've decided to rewrite this in Python so I can do it in a Notebook format. I had intended for notes to accompany my solutions, so this union of code and notes serves me well. I could continue to use Lua, I'm sure there's a kernel on GitHub somewhere for it, but I'd like to refresh my Python skills anyway.\n",
    "\n",
    "This day will have less detailed notes, as I've solved this problem already. I will post my Lua notes following my Day One solutions."
   ]
  },
  {
   "cell_type": "code",
   "execution_count": 7,
   "id": "efa9db9e-c395-4fd3-bf84-112beb59daab",
   "metadata": {},
   "outputs": [
    {
     "name": "stdout",
     "output_type": "stream",
     "text": [
      "54573\n"
     ]
    }
   ],
   "source": [
    "def d1_p1():\n",
    "    data = parse(\"./inputs/one\", True)\n",
    "    sum = 0\n",
    "    for line in data:\n",
    "        nochars = []\n",
    "        for char in line:\n",
    "            a = ord(char)\n",
    "            if a < 58 and a > 47:\n",
    "                nochars.append(char)\n",
    "        nl = len(nochars) - 1\n",
    "        sum += int(nochars[0] + nochars[nl])\n",
    "    print(sum)\n",
    "\n",
    "d1_p1()"
   ]
  },
  {
   "cell_type": "markdown",
   "id": "0ffd7fd4-0677-4462-b468-0435e2060389",
   "metadata": {},
   "source": [
    "# Day 1 Part 2\n",
    "not much changed here "
   ]
  },
  {
   "cell_type": "code",
   "execution_count": 7,
   "id": "322c89f5-0776-43b6-acb7-6aff0944c9cd",
   "metadata": {},
   "outputs": [
    {
     "name": "stdout",
     "output_type": "stream",
     "text": [
      "54591\n"
     ]
    }
   ],
   "source": [
    "def w2n(str):\n",
    "    str = str.replace(\"oneight\", \"18\")\n",
    "    str = str.replace(\"nineight\", \"98\")\n",
    "    str = str.replace(\"eighthree\", \"83\")\n",
    "    str = str.replace(\"sevenine\", \"79\")\n",
    "    str = str.replace(\"eightwo\", \"82\")\n",
    "    str = str.replace(\"twone\", \"21\")\n",
    "    str = str.replace(\"fiveight\", \"58\")\n",
    "    str = str.replace(\"one\", \"1\")\n",
    "    str = str.replace(\"two\", \"2\")\n",
    "    str = str.replace(\"three\", \"3\")\n",
    "    str = str.replace(\"four\", \"4\")\n",
    "    str = str.replace(\"five\", \"5\")\n",
    "    str = str.replace(\"six\", \"6\")\n",
    "    str = str.replace(\"seven\", \"7\")\n",
    "    str = str.replace(\"eight\", \"8\")\n",
    "    str = str.replace(\"nine\", \"9\")\n",
    "    return str\n",
    "\n",
    "def d1_p2():\n",
    "    data = parse(\"./inputs/one\", False)\n",
    "    data = w2n(data)\n",
    "    data = data.split()\n",
    "    sum = 0\n",
    "    for line in data:\n",
    "        nochars = []\n",
    "        for char in line:\n",
    "            a = ord(char)\n",
    "            if a < 58 and a > 47:\n",
    "                nochars.append(char)\n",
    "        nl = len(nochars) - 1\n",
    "        sum += int(nochars[0] + nochars[nl])\n",
    "    print(sum)\n",
    "\n",
    "d1_p2()"
   ]
  },
  {
   "cell_type": "markdown",
   "id": "54f53425-e3da-4961-b8fd-94b2c6a6b2d8",
   "metadata": {},
   "source": [
    "# (previous solution)\n",
    "## Notes\n",
    "part one was pretty trivial, took me some time to figure out lua but i got it. i also misread the question a bit but it didn't derail me too much.\n",
    "\n",
    "part two took an expected turn, expected as in i noticed it, not expected as in i organized my code to anticipate it. from what i understand that is par for the advent of code course.\n",
    "\n",
    "seemed simple enough, but there's a trick! threeeight counts as 38, and all other overlapping numbers follow suit. my naive solution assumed they'd be there in whole, but a look at the input should have alerted me right away, as it's right there, on the third line. gonna have to brainstorm a bit, lua doesn't provide the abstractions to deal with something like this (i think so, at least).\n",
    "\n",
    "got it, it was only a few lines of compound words. no need for anything fancy.\n",
    "\n",
    "## Code\n",
    "```lua\n",
    "function split(file)\n",
    "\tlocal lines = {}\n",
    "\tfor line in file:gmatch\"[^\\n]+\" do\n",
    "\t\ttable.insert(lines, line)\n",
    "\tend\n",
    "\treturn lines\n",
    "end\n",
    "\n",
    "function parse(path, tbl)\n",
    "\tlocal file = io.open(path, \"r\")\n",
    "\tif file then\n",
    "\t\tlocal contents = file:read(\"a\")\n",
    "\t\tfile:close()\n",
    "\t\tif tbl then\n",
    "\t\t\treturn split(contents)\n",
    "\t\telse\n",
    "\t\t\treturn contents\n",
    "\t\tend\n",
    "\telse\n",
    "\t\tprint(\"read failed\")\n",
    "\tend\n",
    "end\n",
    "\n",
    "function _23011()\n",
    "\tlocal contents = parse(\"./2023/one/input\", true)\n",
    "\tlocal sum = 0\n",
    "\tfor i, line in pairs(contents) do\n",
    "\t\tlocal nochars = \"\"\n",
    "\t\tfor char in line:gmatch\".\" do\n",
    "\t\t\tlocal ascii = string.byte(char)\n",
    "\t\t\tif ascii < 58 and ascii > 47 then\n",
    "\t\t\t\tnochars = nochars .. char\n",
    "\t\t\tend\n",
    "\t\tend\n",
    "\t\tlocal first = string.sub(nochars,1,1)\n",
    "\t\tlocal nl = #nochars\n",
    "\t\tlocal second = string.sub(nochars,nl,nl)\n",
    "\t\tlocal calibrated = first .. second\n",
    "\t\tsum = sum + tonumber(calibrated)\n",
    "\tend\n",
    "\tprint(sum)\n",
    "end\n",
    "\n",
    "function l2n(s)\n",
    "\t-- compounds\n",
    "\ts = string.gsub(s, \"oneight\", \"18\")\n",
    "\ts = string.gsub(s, \"nineight\", \"98\")\n",
    "\ts = string.gsub(s, \"eighthree\", \"83\")\n",
    "\ts = string.gsub(s, \"sevenine\", \"79\")\n",
    "\ts = string.gsub(s, \"eightwo\", \"82\")\n",
    "\ts = string.gsub(s, \"twone\", \"21\")\n",
    "\ts = string.gsub(s, \"fiveight\", \"58\")\n",
    "\t-- singles\n",
    "\ts = string.gsub(s, \"one\", \"1\")\n",
    "\ts = string.gsub(s, \"two\", \"2\")\n",
    "\ts = string.gsub(s, \"three\", \"3\")\n",
    "\ts = string.gsub(s, \"four\", \"4\")\n",
    "\ts = string.gsub(s, \"five\", \"5\")\n",
    "\ts = string.gsub(s, \"six\", \"6\")\n",
    "\ts = string.gsub(s, \"seven\", \"7\")\n",
    "\ts = string.gsub(s, \"eight\", \"8\")\n",
    "\ts = string.gsub(s, \"nine\", \"9\")\n",
    "\treturn s\n",
    "end\n",
    "\n",
    "function _23012()\n",
    "\tlocal contents = parse(\"./2023/one/input\", false)\n",
    "\tlocal noly = l2n(contents)\n",
    "\tlocal nonl = split(noly)\n",
    "\tlocal sum = 0\n",
    "\tfor i, line in pairs(nonl) do\n",
    "\t\tlocal nochars = \"\"\n",
    "\t\tfor char in line:gmatch\".\" do\n",
    "\t\t\tlocal ascii = string.byte(char)\n",
    "\t\t\tif ascii < 58 and ascii > 47 then\n",
    "\t\t\t\tnochars = nochars .. char\n",
    "\t\t\tend\n",
    "\t\tend\n",
    "\t\tlocal first = string.sub(nochars,1,1)\n",
    "\t\tlocal nl = #nochars\n",
    "\t\tlocal second = string.sub(nochars,nl,nl)\n",
    "\t\tlocal calibrated = first .. second\n",
    "\t\tsum = sum + tonumber(calibrated)\n",
    "\tend\n",
    "\tprint(sum)\n",
    "end\n",
    "```"
   ]
  },
  {
   "cell_type": "markdown",
   "id": "1ebfe712-486a-451d-bce6-32fc37ad671f",
   "metadata": {},
   "source": [
    "# Day 2 Part 1"
   ]
  }
 ],
 "metadata": {
  "kernelspec": {
   "display_name": "Python 3 (ipykernel)",
   "language": "python",
   "name": "python3"
  },
  "language_info": {
   "codemirror_mode": {
    "name": "ipython",
    "version": 3
   },
   "file_extension": ".py",
   "mimetype": "text/x-python",
   "name": "python",
   "nbconvert_exporter": "python",
   "pygments_lexer": "ipython3",
   "version": "3.12.1"
  }
 },
 "nbformat": 4,
 "nbformat_minor": 5
}
